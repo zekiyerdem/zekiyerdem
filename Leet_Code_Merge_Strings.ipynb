{
  "nbformat": 4,
  "nbformat_minor": 0,
  "metadata": {
    "colab": {
      "provenance": [],
      "include_colab_link": true
    },
    "kernelspec": {
      "name": "python3",
      "display_name": "Python 3"
    },
    "language_info": {
      "name": "python"
    }
  },
  "cells": [
    {
      "cell_type": "markdown",
      "metadata": {
        "id": "view-in-github",
        "colab_type": "text"
      },
      "source": [
        "<a href=\"https://colab.research.google.com/github/zekiyerdem/zekiyerdem/blob/main/Leet_Code_Merge_Strings.ipynb\" target=\"_parent\"><img src=\"https://colab.research.google.com/assets/colab-badge.svg\" alt=\"Open In Colab\"/></a>"
      ]
    },
    {
      "cell_type": "markdown",
      "source": [
        "You are given two strings word1 and word2. Merge the strings by adding letters in alternating order, starting with word1. If a string is longer than the other, append the additional letters onto the end of the merged string.\n",
        "\n",
        "Return the merged string.\n",
        "\n",
        "\n",
        "\n",
        "Example 1:\n",
        "\n",
        "Input: word1 = \"abc\", word2 = \"pqr\"\n",
        "Output: \"apbqcr\"\n",
        "Explanation: The merged string will be merged as so:\n",
        "word1:  a   b   c\n",
        "word2:    p   q   r\n",
        "merged: a p b q c r\n",
        "Example 2:\n",
        "\n",
        "Input: word1 = \"ab\", word2 = \"pqrs\"\n",
        "Output: \"apbqrs\"\n",
        "Explanation: Notice that as word2 is longer, \"rs\" is appended to the end.\n",
        "word1:  a   b\n",
        "word2:    p   q   r   s\n",
        "merged: a p b q   r   s\n",
        "Example 3:\n",
        "\n",
        "Input: word1 = \"abcd\", word2 = \"pq\"\n",
        "Output: \"apbqcd\"\n",
        "Explanation: Notice that as word1 is longer, \"cd\" is appended to the end.\n",
        "word1:  a   b   c   d\n",
        "word2:    p   q\n",
        "merged: a p b q c   d"
      ],
      "metadata": {
        "id": "ccmXIgXygjQ8"
      }
    },
    {
      "cell_type": "code",
      "execution_count": null,
      "metadata": {
        "colab": {
          "base_uri": "https://localhost:8080/"
        },
        "id": "YVHCG3yAgb0I",
        "outputId": "1b61b387-b86b-44c8-fda3-d56baaca8f63"
      },
      "outputs": [
        {
          "output_type": "stream",
          "name": "stdout",
          "text": [
            "abcdefxyz\n"
          ]
        }
      ],
      "source": [
        "word1=\"abcdef\"\n",
        "word2=\"xyz\"\n",
        "output=word1+word2\n",
        "print(output)"
      ]
    },
    {
      "cell_type": "markdown",
      "source": [
        "This is not adding in an alternative order so we need to access their indexes\n"
      ],
      "metadata": {
        "id": "kribgGrRhS3c"
      }
    },
    {
      "cell_type": "code",
      "source": [
        "word1[1]"
      ],
      "metadata": {
        "colab": {
          "base_uri": "https://localhost:8080/",
          "height": 35
        },
        "id": "16ADoctnhXGh",
        "outputId": "74e93053-4be4-4ab2-9956-9091eef54cb8"
      },
      "execution_count": null,
      "outputs": [
        {
          "output_type": "execute_result",
          "data": {
            "text/plain": [
              "'b'"
            ],
            "application/vnd.google.colaboratory.intrinsic+json": {
              "type": "string"
            }
          },
          "metadata": {},
          "execution_count": 4
        }
      ]
    },
    {
      "cell_type": "markdown",
      "source": [
        "ok we can acess their indexes like this so lets try to add by their indexes"
      ],
      "metadata": {
        "id": "FiuTAao1hbSY"
      }
    },
    {
      "cell_type": "markdown",
      "source": [
        "if len(word1>word2)\n",
        "return\n",
        "for (i=0:len(word1)\n",
        "word1[i]+word2[i]\n",
        "i=+1"
      ],
      "metadata": {
        "id": "C6brU6A1iIZY"
      }
    },
    {
      "cell_type": "code",
      "source": [
        "min(len(word1),len(word2))"
      ],
      "metadata": {
        "colab": {
          "base_uri": "https://localhost:8080/"
        },
        "id": "kZzJOzkqlFd_",
        "outputId": "15861669-d270-4952-fcbc-f43b8421895b"
      },
      "execution_count": null,
      "outputs": [
        {
          "output_type": "execute_result",
          "data": {
            "text/plain": [
              "3"
            ]
          },
          "metadata": {},
          "execution_count": 15
        }
      ]
    },
    {
      "cell_type": "code",
      "source": [
        "mm=word1[1]+word2[1]\n",
        "print(mm)"
      ],
      "metadata": {
        "colab": {
          "base_uri": "https://localhost:8080/"
        },
        "id": "l_JNiXZCppPO",
        "outputId": "2284e920-283a-4ba4-b4b2-5eaaf6a58640"
      },
      "execution_count": null,
      "outputs": [
        {
          "output_type": "stream",
          "name": "stdout",
          "text": [
            "bq\n"
          ]
        }
      ]
    },
    {
      "cell_type": "markdown",
      "source": [
        "You can achieve this by iterating through the shorter of the two strings and concatenating the characters from both strings in alternating order. After that, append the remaining part of the longer string to the merged string. Here's a Python function that does this:"
      ],
      "metadata": {
        "id": "6EvWK7jiJFCT"
      }
    },
    {
      "cell_type": "code",
      "source": [
        "def merge_words(ww1,ww2):\n",
        "  merged=\"\"\n",
        "\n",
        "  for i in range (min(len(ww1),len(ww2))):\n",
        "    merged += ww1[i]+ ww2[i]\n",
        "\n",
        "  if len(ww1)>= len(ww2):\n",
        "\n",
        "     merged += ww1[len(ww2):]\n",
        "\n",
        "  else:\n",
        "\n",
        "     merged += ww1[len(ww1):]\n",
        "\n",
        "  return merged\n"
      ],
      "metadata": {
        "id": "ddOnUZR5CD44"
      },
      "execution_count": null,
      "outputs": []
    },
    {
      "cell_type": "code",
      "source": [
        " word1=\"mahmut\"\n",
        " word2=\"ali\"\n",
        " merge_words(word1,word2)"
      ],
      "metadata": {
        "colab": {
          "base_uri": "https://localhost:8080/",
          "height": 35
        },
        "id": "t5IxS18Tz-OW",
        "outputId": "9bb4e26a-7858-4abb-b9be-91b06b89a2fc"
      },
      "execution_count": null,
      "outputs": [
        {
          "output_type": "execute_result",
          "data": {
            "text/plain": [
              "'maalhimut'"
            ],
            "application/vnd.google.colaboratory.intrinsic+json": {
              "type": "string"
            }
          },
          "metadata": {},
          "execution_count": 118
        }
      ]
    }
  ]
}